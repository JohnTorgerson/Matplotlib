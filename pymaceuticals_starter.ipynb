{
 "cells": [
  {
   "cell_type": "markdown",
   "metadata": {},
   "source": [
    "## Observations and Insights "
   ]
  },
  {
   "cell_type": "markdown",
   "metadata": {},
   "source": []
  },
  {
   "cell_type": "code",
   "execution_count": null,
   "metadata": {},
   "outputs": [],
   "source": [
    "## SAVE TEST"
   ]
  },
  {
   "cell_type": "code",
   "execution_count": null,
   "metadata": {},
   "outputs": [],
   "source": [
    "# Dependencies and Setup\n",
    "import matplotlib.pyplot as plt\n",
    "import pandas as pd\n",
    "import scipy.stats as st\n",
    "\n",
    "# Study data files\n",
    "mouse_metadata_path = \"data/Mouse_metadata.csv\"\n",
    "study_results_path = \"data/Study_results.csv\"\n",
    "\n",
    "# Read the mouse data and the study results\n",
    "mouse_metadata = pd.read_csv(mouse_metadata_path)\n",
    "study_results = pd.read_csv(study_results_path)"
   ]
  },
  {
   "cell_type": "code",
   "execution_count": null,
   "metadata": {},
   "outputs": [],
   "source": [
    "mouse_metadata.head()"
   ]
  },
  {
   "cell_type": "code",
   "execution_count": null,
   "metadata": {},
   "outputs": [],
   "source": [
    "study_results.head()"
   ]
  },
  {
   "cell_type": "code",
   "execution_count": null,
   "metadata": {},
   "outputs": [],
   "source": [
    "# Combine the data into a single dataset\n",
    "merged_df = pd.merge(mouse_metadata, study_results, on=\"Mouse ID\")\n",
    "\n",
    "# Display the data table for preview\n",
    "merged_df.head()"
   ]
  },
  {
   "cell_type": "code",
   "execution_count": null,
   "metadata": {},
   "outputs": [],
   "source": [
    "# Checking the number of mice.\n",
    "subjectCt = (merged_df[\"Mouse ID\"]).nunique()\n",
    "print(subjectCt)"
   ]
  },
  {
   "cell_type": "code",
   "execution_count": null,
   "metadata": {},
   "outputs": [],
   "source": [
    "duplicates = merged_df.loc[merged_df.duplicated(subset=['Mouse ID', 'Timepoint'], keep=False),'Mouse ID']"
   ]
  },
  {
   "cell_type": "code",
   "execution_count": null,
   "metadata": {},
   "outputs": [],
   "source": [
    "print(duplicates)"
   ]
  },
  {
   "cell_type": "markdown",
   "metadata": {},
   "source": [
    "## <span style=\"color: black;\">   Fig 1.1  All Data for Duplicate Mouse ID"
   ]
  },
  {
   "cell_type": "code",
   "execution_count": null,
   "metadata": {},
   "outputs": [],
   "source": [
    "#List all data for duplicate mice by ID\n",
    "merged_df.loc[merged_df['Mouse ID'] == 'g989', :]"
   ]
  },
  {
   "cell_type": "code",
   "execution_count": null,
   "metadata": {},
   "outputs": [],
   "source": [
    "## Assign Variables to each relevant Series in the DataFrame\n",
    "tPt = merged_df['Timepoint']\n",
    "tVol = merged_df['Tumor Volume (mm3)']\n",
    "sex = merged_df['Sex']\n",
    "dReg = merged_df['Drug Regimen']\n",
    "wt = merged_df['Weight (g)']\n",
    "\n",
    "## Assign Treatments to a List\n",
    "scrip_list = merged_df['Drug Regimen'].unique()\n",
    "scrip_list"
   ]
  },
  {
   "cell_type": "code",
   "execution_count": null,
   "metadata": {},
   "outputs": [],
   "source": [
    "# Drop all the rows for the mouse with duplicates\n",
    "# merged_df.drop(index=[908 to 920], inplace = True)\n",
    "merged_df.drop(index=[908,909,910,911,912,913,914,915,916,917,918,919,920], inplace=True)"
   ]
  },
  {
   "cell_type": "markdown",
   "metadata": {},
   "source": [
    "## <span style=\"color: black;\">Corrected Subject Count"
   ]
  },
  {
   "cell_type": "code",
   "execution_count": null,
   "metadata": {},
   "outputs": [],
   "source": [
    "# Check the number of mice in the cleaned up DataFrame.\n",
    "subjectCt = (merged_df[\"Mouse ID\"]).nunique()\n",
    "print(subjectCt)"
   ]
  },
  {
   "cell_type": "code",
   "execution_count": null,
   "metadata": {},
   "outputs": [],
   "source": [
    "# Generate a summary statistics table of mean, median, variance, standard deviation, and SEM of the tumor volume for each regimen\n",
    "\n",
    "# Use groupby and summary statistical methods to calculate the following properties of each drug regimen:\n",
    "drug_reg = merged_df.groupby(['Drug Regimen'])\n",
    "avgVol = drug_reg[['Tumor Volume (mm3)']].mean()\n",
    "medVol = drug_reg[['Tumor Volume (mm3)']].median()\n",
    "varVol = drug_reg[['Tumor Volume (mm3)']].var()\n",
    "stdVol = drug_reg[['Tumor Volume (mm3)']].std()\n",
    "semVol = drug_reg[['Tumor Volume (mm3)']].sem()"
   ]
  },
  {
   "cell_type": "markdown",
   "metadata": {},
   "source": [
    "## <span style=\"color: black;\">Average Tumor Volume Summary"
   ]
  },
  {
   "cell_type": "code",
   "execution_count": null,
   "metadata": {},
   "outputs": [],
   "source": [
    "avgVol.head(10)"
   ]
  },
  {
   "cell_type": "markdown",
   "metadata": {},
   "source": [
    "## <span style=\"color: black;\">Median Tumor Volume Summary"
   ]
  },
  {
   "cell_type": "code",
   "execution_count": null,
   "metadata": {},
   "outputs": [],
   "source": [
    "medVol.head(10)"
   ]
  },
  {
   "cell_type": "markdown",
   "metadata": {},
   "source": [
    "## <span style=\"color: black;\">Variance Tumor Volume Summary"
   ]
  },
  {
   "cell_type": "code",
   "execution_count": null,
   "metadata": {},
   "outputs": [],
   "source": [
    "varVol.head(10)"
   ]
  },
  {
   "cell_type": "markdown",
   "metadata": {},
   "source": [
    "## <span style=\"color: black;\">Standard Deviation Tumor Volume Summary"
   ]
  },
  {
   "cell_type": "code",
   "execution_count": null,
   "metadata": {},
   "outputs": [],
   "source": [
    "stdVol.head(11)"
   ]
  },
  {
   "cell_type": "markdown",
   "metadata": {},
   "source": [
    "## <span style=\"color: black;\">Standard Error of the Mean Tumor Volume Summary"
   ]
  },
  {
   "cell_type": "code",
   "execution_count": null,
   "metadata": {},
   "outputs": [],
   "source": [
    "semVol.head(11)"
   ]
  },
  {
   "cell_type": "code",
   "execution_count": null,
   "metadata": {},
   "outputs": [],
   "source": [
    "# Using the aggregation method, produce the same summary statistics in a single line"
   ]
  },
  {
   "cell_type": "markdown",
   "metadata": {},
   "source": [
    "## <span style=\"color: black;\">Summary Table of Above data using Aggregate method"
   ]
  },
  {
   "cell_type": "code",
   "execution_count": null,
   "metadata": {},
   "outputs": [],
   "source": [
    "drug_reg.agg( {'Tumor Volume (mm3)': [\"mean\", \"median\", \"var\", \"std\", \"sem\"]})"
   ]
  },
  {
   "cell_type": "markdown",
   "metadata": {},
   "source": [
    "## Bar and Pie Charts"
   ]
  },
  {
   "cell_type": "code",
   "execution_count": null,
   "metadata": {},
   "outputs": [],
   "source": [
    "# Reduce Drug Groupby to only Timepoint Data and plot bars\n",
    "drug_tPt = drug_reg[['Timepoint']].count()"
   ]
  },
  {
   "cell_type": "code",
   "execution_count": null,
   "metadata": {},
   "outputs": [],
   "source": [
    "tPts_bar = drug_tPt.plot(kind='bar')"
   ]
  },
  {
   "cell_type": "code",
   "execution_count": null,
   "metadata": {},
   "outputs": [],
   "source": [
    "drug_tPt"
   ]
  },
  {
   "cell_type": "code",
   "execution_count": null,
   "metadata": {},
   "outputs": [],
   "source": [
    "scrip_list"
   ]
  },
  {
   "cell_type": "code",
   "execution_count": null,
   "metadata": {},
   "outputs": [],
   "source": [
    "points = drug_tPt['Timepoint']\n",
    "points"
   ]
  },
  {
   "cell_type": "code",
   "execution_count": null,
   "metadata": {},
   "outputs": [],
   "source": [
    "# Generate a bar plot showing the total number of timepoints for all mice tested for each drug regimen using pyplot.\n",
    "#drugs = drug_reg.index  --- FIX THIS VARIABLE\n",
    "\n",
    "plt.title (\"Timepoints\")\n",
    "plt.xlabel (\"Drug Regimen\")\n",
    "plt.xticks (rotation=\"vertical\")\n",
    "\n",
    "plt.bar(scrip_list, points, facecolor='blue')#, labels='vertical')\n",
    "plt.show()"
   ]
  },
  {
   "cell_type": "code",
   "execution_count": null,
   "metadata": {},
   "outputs": [],
   "source": [
    "# Generate a pie plot showing the distribution of female versus male mice using Pandas\n",
    "merged_df[\"Sex\"].value_counts().plot(kind='pie')"
   ]
  },
  {
   "cell_type": "code",
   "execution_count": null,
   "metadata": {},
   "outputs": [],
   "source": [
    "# Set Variables for Pie Chart\n",
    "labels = ['Male', 'Female']\n",
    "sizes = merged_df['Sex'].value_counts()\n",
    "colors = ['blue', 'yellow']\n",
    "explode = [0, 0.1]"
   ]
  },
  {
   "cell_type": "code",
   "execution_count": null,
   "metadata": {},
   "outputs": [],
   "source": [
    "sizes"
   ]
  },
  {
   "cell_type": "code",
   "execution_count": null,
   "metadata": {},
   "outputs": [],
   "source": [
    "plt.pie(sizes, explode= explode, labels=labels, colors=colors, autopct=\"%1.1f%%\", shadow=True, \\\n",
    "        startangle=0)\n",
    "plt.axis('equal')\n",
    "plt.show()"
   ]
  },
  {
   "cell_type": "markdown",
   "metadata": {},
   "source": [
    "## Quartiles, Outliers and Boxplots"
   ]
  },
  {
   "cell_type": "code",
   "execution_count": null,
   "metadata": {},
   "outputs": [],
   "source": [
    "# Calculate the final tumor volume of each mouse across four of the treatment regimens:\n",
    "# Group the orig Cleaned Dataframe by Subject and Greatest Timepoint\n",
    "max_tPts = merged_df.groupby('Mouse ID').max()['Timepoint']"
   ]
  },
  {
   "cell_type": "code",
   "execution_count": null,
   "metadata": {},
   "outputs": [],
   "source": [
    "# Merge max timepoint data with orig clean dataframe on Subject ID\n",
    "max_tPts = pd.merge(max_tPts, merged_df, on=['Mouse ID', 'Timepoint'], how='outer')"
   ]
  },
  {
   "cell_type": "code",
   "execution_count": null,
   "metadata": {},
   "outputs": [],
   "source": [
    "max_tPts.head(1)"
   ]
  },
  {
   "cell_type": "code",
   "execution_count": null,
   "metadata": {},
   "outputs": [],
   "source": [
    "# List drug regimens of priority; Capomulin, Ramicane, Infubinol, and Ceftamin\n",
    "# & start columns for empty dataframe\n",
    "prScrips = ['Capomulin', 'Ramicane', 'Infubinol', 'Ceftamin']\n",
    "maxVList = []\n",
    "outlierLst = []\n",
    "maxVol_df = pd.DataFrame()"
   ]
  },
  {
   "cell_type": "code",
   "execution_count": null,
   "metadata": {},
   "outputs": [],
   "source": [
    "#Create truncated df for Boxplot\n",
    "box_df = merged_df.loc[merged_df['Drug Regimen'].isin(['Capomulin', 'Ramincane', 'Infubinol', 'Ceftamin'])]\n",
    "box_df"
   ]
  },
  {
   "cell_type": "code",
   "execution_count": null,
   "metadata": {},
   "outputs": [],
   "source": [
    "# Create forLoop to iterate last timepoints and gather max volumes\n",
    "for index, scrip in enumerate(prScrips):\n",
    "    \n",
    "    # Start by getting the last (greatest) timepoint for each mouse and fill new dataframe list\n",
    "    lastVol = max_tPts.loc[max_tPts['Drug Regimen'] == scrip, :]\n",
    "    \n",
    "    maxVList.append(lastVol['Tumor Volume (mm3)'])"
   ]
  },
  {
   "cell_type": "code",
   "execution_count": null,
   "metadata": {},
   "outputs": [],
   "source": [
    "## Plot max volumes, for each of the 4 regimens of interest in box plots"
   ]
  },
  {
   "cell_type": "code",
   "execution_count": null,
   "metadata": {},
   "outputs": [],
   "source": [
    "fig1 = ax1 = plt.subplots()\n",
    "ax1.set_title(\"Capomulin\")\n",
    "ax1.set_ylabel(Max. Volumes)\n",
    "ax1.boxplot()"
   ]
  },
  {
   "cell_type": "code",
   "execution_count": null,
   "metadata": {},
   "outputs": [],
   "source": [
    "    # Parse data into Quartiles, and append table with outlier counts\n",
    "    quartile = maxVList[index].quantile([.25, .5, .75])\n",
    "    maxVol_df.loc[scrip, 'Qu.1'] = quartile[.25]\n",
    "    maxVol_df.loc[scrip, 'H_Spread'] = quartile[.5]\n",
    "    maxVol_df.loc[scrip, 'Qu.3'] = quartile[.75]\n",
    "    maxVol_df.loc[scrip, 'H_Width'] = quartile[.75] - quartile [.25]\n",
    "    "
   ]
  },
  {
   "cell_type": "code",
   "execution_count": null,
   "metadata": {},
   "outputs": [],
   "source": [
    "    #Set Variables for Outliers\n",
    "    lFence = quartile[.25] - 1.5 * (quartile[.75] - quartile [.25])\n",
    "    uFence = quartile[.75] + 1.5 * (quartile[.75] - quartile [.25])\n",
    "    ifOut = lastVol['Tumor Volume (mm3)']"
   ]
  },
  {
   "cell_type": "code",
   "execution_count": null,
   "metadata": {},
   "outputs": [],
   "source": [
    "ifOut"
   ]
  },
  {
   "cell_type": "markdown",
   "metadata": {},
   "source": [
    "# <span style=\"color: blue;\">CURRENTLY</span> <span style=\"color: green;\">WORKING</span> <span style=\"color: red;\">HERE</span>"
   ]
  },
  {
   "cell_type": "code",
   "execution_count": null,
   "metadata": {},
   "outputs": [],
   "source": [
    "    maxVol_df.loc[scrip, 'Lower Fence'] = quartile[.25] - 1.5 * (quartile[.75] - quartile [.25]) #lFence\n",
    "    maxVol_df.loc[scrip, 'Upper Fence'] = quartile[.25] - 1.5 * (quartile[.75] - quartile [.25]) #uFence\n",
    "    \n",
    "    outlier = lastVol.loc[(lastVol['Tumor Volume (mm3)'] > maxVol_df.loc[quartile[.75] + \\\n",
    "        1.5 * (quartile[.75] - quartile [.25], :) | lastVol.loc(lastVol['Tumor Volume (mm3)'] \\\n",
    "        < quartile[.25] - 1.5 * (quartile[.75] - quartile [.25]), :).count()"
   ]
  },
  {
   "cell_type": "code",
   "execution_count": null,
   "metadata": {},
   "outputs": [],
   "source": [
    "    maxVol_df.loc[scrip, 'Outlier Count'] = lastVol.loc[(lastVol['Tumor Volume (mm3)'] > maxVol_df.loc[quartile[.75] + 1.5 * (quartile[.75] - quartile [.25]) ]).count() # | (lastVol['Tumor Volume (mm3)']) < (lFence)]    "
   ]
  },
  {
   "cell_type": "code",
   "execution_count": null,
   "metadata": {},
   "outputs": [],
   "source": [
    "    #Fill new datafram list for outliers\n",
    "    outliers = "
   ]
  },
  {
   "cell_type": "code",
   "execution_count": null,
   "metadata": {},
   "outputs": [],
   "source": [
    "# Generate a box plot of the final tumor volume of each mouse across four regimens of interest\n",
    "fig, (ax0, ax1, ax2, ax3) = plst.subplots(ncols=4, sharey=True)\n",
    "ax0.boxplot(maxVList)[0], labels=['Capomulin'], flierprops={'markerfacecolor':'purple','marker':'o'}\n",
    "ax1.boxplot(maxVList)[1], labels=['Ramicane'], flierprops={'markerfacecolor':'purple','marker':'o'}\n",
    "ax2.boxplot(maxVList)[2], labels=['Infubinol'], flierprops={'markerfacecolor':'purple','marker':'o'}\n",
    "ax3.boxplot(maxVList)[3], labels=['Ceftamin'], flierprops={'markerfacecolor':'purple','marker':'o'}"
   ]
  },
  {
   "cell_type": "markdown",
   "metadata": {},
   "source": [
    "## Line and Scatter Plots"
   ]
  },
  {
   "cell_type": "code",
   "execution_count": null,
   "metadata": {},
   "outputs": [],
   "source": [
    "# Generate a line plot of tumor volume vs. time point for a mouse treated with Capomulin\n",
    "# Plot the charts and apply some styling\n",
    "## BASIC danger_drop, = plt.plot(time, danger_drop_speeds, color=\"indigo\", alpha=(0.6), label=\"Danger Drop\")\n",
    "## BASIC railgun, = plt.plot(time, railgun_speeds, color=\"blue\", label=\"RailGun\")"
   ]
  },
  {
   "cell_type": "code",
   "execution_count": null,
   "metadata": {},
   "outputs": [],
   "source": [
    "# Generate a scatter plot of average tumor volume vs. mouse weight for the Capomulin regimen\n",
    "merged_df.plot(kind='scatter', x='Tumor Volume (mm3)', y=)\n",
    "## BASIC plt.scatter(x_axis, data, marker=\"o\", facecolors=\"red\", edgecolors=\"black\", s=x_axis, alpha=0.75)"
   ]
  },
  {
   "cell_type": "markdown",
   "metadata": {},
   "source": [
    "## Correlation and Regression"
   ]
  },
  {
   "cell_type": "code",
   "execution_count": null,
   "metadata": {},
   "outputs": [],
   "source": [
    "# Calculate the correlation coefficient and linear regression model \n",
    "# for mouse weight and average tumor volume for the Capomulin regimen\n"
   ]
  },
  {
   "cell_type": "code",
   "execution_count": null,
   "metadata": {},
   "outputs": [],
   "source": []
  }
 ],
 "metadata": {
  "anaconda-cloud": {},
  "kernelspec": {
   "display_name": "PythonData38",
   "language": "python",
   "name": "pythondata38"
  },
  "language_info": {
   "codemirror_mode": {
    "name": "ipython",
    "version": 3
   },
   "file_extension": ".py",
   "mimetype": "text/x-python",
   "name": "python",
   "nbconvert_exporter": "python",
   "pygments_lexer": "ipython3",
   "version": "3.9.12"
  }
 },
 "nbformat": 4,
 "nbformat_minor": 4
}
